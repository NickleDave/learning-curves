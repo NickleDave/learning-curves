{
 "cells": [
  {
   "cell_type": "markdown",
   "metadata": {
    "nbpresent": {
     "id": "cca0541f-570f-42ac-ac47-ae2227518106"
    }
   },
   "source": [
    "# _Fit Your Learning Curves for Fun and Profit:_\n",
    "## A Jupyter notebook version of ['Learning curves: Asymptotic values and rate of convergence' by Cortes et al. 1994](https://www.semanticscholar.org/paper/Learning-Curves-Asymptotic-Values-and-Rate-of-Cortes-Jackel/9878be2aeda54fb6e5f84bc700921641e2837824/pdf)\n",
    "\n",
    "### David Nicholson\n",
    "#### Graduate student, Emory Neuroscience\n",
    "\n",
    "# Jupyter Day Atlanta\n",
    "\n",
    "https://github.com/NickleDave/learning-curves/"
   ]
  },
  {
   "cell_type": "markdown",
   "metadata": {
    "nbpresent": {
     "id": "d0af7dc3-d446-42e8-9477-a52d59d9e423"
    }
   },
   "source": [
    "## learning curves\n",
    "* plot of error against size of training data set\n",
    "![learning curves](./cortes_etal_1994_fig2.png)\n",
    "<center>**Fig.2 from Cortes et al. 1994**</center>"
   ]
  },
  {
   "cell_type": "markdown",
   "metadata": {
    "nbpresent": {
     "id": "d9359060-bcc8-4304-98a2-a5ab90f83bda"
    }
   },
   "source": [
    "## why bother?\n",
    "* Consider these hypothetical learning curves:\n",
    "![more learning curves](./cortes_etal_1994_fig1.png)\n",
    "<center>**Fig.1 from Cortes et al. 1994**</center>"
   ]
  },
  {
   "cell_type": "markdown",
   "metadata": {
    "nbpresent": {
     "id": "90910be3-bb78-4603-9704-076340b315c0"
    }
   },
   "source": [
    "## Can we avoid a training set size of 50k samples?\n",
    "* Yes! (Cortes et al., 1994)\n",
    "* We'll train up a bunch of models with data sets of intermediate size that are quicker to train\n",
    "* Then we'll estimate the error for each size of training set\n",
    "* Lastly we'll plot the error points and fit a curve"
   ]
  },
  {
   "cell_type": "markdown",
   "metadata": {
    "nbpresent": {
     "id": "087af4d5-6780-40fa-a7db-8fa1aa42c6f5"
    }
   },
   "source": [
    "## The curve we'll fit: a power function\n",
    "* has the form: $y = a + bx^\\alpha$\n",
    " + with the parameters:\n",
    "     * $a$, the asymptote\n",
    "     * $b$, the scaling factor\n",
    "     * $\\alpha$, the power or exponent\n",
    "     "
   ]
  },
  {
   "cell_type": "markdown",
   "metadata": {
    "nbpresent": {
     "id": "0cb49e51-be60-43be-8159-34b3907dd19a"
    }
   },
   "source": [
    "## Cortes et al.'s approach\n",
    "\n",
    "* Consider these learning curves again\n",
    "\n",
    "![learning curves](./cortes_etal_1994_fig2.png)\n",
    "<center>**Fig.2 from Cortes et al. 1994**</center>\n",
    "\n",
    "* We're going to assume both the training error and test error obey power functions \n",
    "* Further assume both go in the limit to the same asymptote $a$\n",
    "* These assumptions give us two equations:\n",
    " 1. $\\epsilon_{test} = a + \\frac{b}{l^\\alpha}$\n",
    " 2. $\\epsilon_{train} = a - \\frac{c}{l^\\beta}$"
   ]
  },
  {
   "cell_type": "markdown",
   "metadata": {
    "nbpresent": {
     "id": "b785a7b3-2bff-46c0-acd0-2d85bc886a61"
    }
   },
   "source": [
    "## Cortes et al.'s approach\n",
    "\n",
    "* Let's take the sum and difference of those two equations\n",
    "<br>&nbsp; &nbsp;3. The sum: $\\epsilon_{test} + \\epsilon_{train} = 2a + \\frac{b}{l^\\alpha} - \\frac{c}{l^\\beta}$\n",
    "<br>&nbsp; &nbsp;4. The difference: $\\epsilon_{test} - \\epsilon_{train} = \\frac{b}{l^\\alpha} + \\frac{c}{l^\\beta}$\n",
    "\n",
    "* Assume further that $\\alpha$ = $\\beta$ and that $b$ = $c$\n",
    "* Equations 3 and 4 now reduce to:\n",
    "<br>&nbsp; &nbsp;5. $\\epsilon_{test} + \\epsilon_{train} = 2a$\n",
    "<br>&nbsp; &nbsp;6. $\\epsilon_{test} - \\epsilon_{train} = \\frac{2b}{l^\\alpha}$\n",
    "<!--- br and &nbsp above are to prevent automated list numbering from resetting count --->"
   ]
  },
  {
   "cell_type": "markdown",
   "metadata": {
    "nbpresent": {
     "id": "179f4a3e-834b-41cc-a55c-89074c2368ae"
    }
   },
   "source": [
    "## Cortes et al.'s approach\n",
    "\n",
    "What's so special about the equations in this form?\n",
    "<br>&nbsp; &nbsp;5. $\\epsilon_{test} + \\epsilon_{train} = 2a$\n",
    "<br>&nbsp; &nbsp;6. $\\epsilon_{test} - \\epsilon_{train} = \\frac{2b}{l^\\alpha}$\n",
    "\n",
    "They suggest we can apply a log transform to the data.\n",
    "\n",
    "Both should yield points we can fit with straight lines to get estimates of the parameters we want for our curve.\n",
    "![log_transform](./cortes_etal_1994_fig3.png)\n",
    "<center>**Fig.3 from Cortes et al. 1994**</center>"
   ]
  },
  {
   "cell_type": "markdown",
   "metadata": {
    "nbpresent": {
     "id": "3053f19d-d73b-42a7-8af3-862dcc671a19"
    }
   },
   "source": [
    "## Cortes et al.'s approach\n",
    "![cortes_algorithm](./cortes_etal_1994_algobox.png)\n"
   ]
  },
  {
   "cell_type": "markdown",
   "metadata": {
    "nbpresent": {
     "id": "56923963-14f8-4403-a800-c16ad762008f"
    }
   },
   "source": [
    "## Ok, cool. How well does the Cortes et al. approach work?"
   ]
  },
  {
   "cell_type": "code",
   "execution_count": 1,
   "metadata": {
    "collapsed": false,
    "nbpresent": {
     "id": "556a9164-3cc7-4d73-9935-0293a0b6a463"
    }
   },
   "outputs": [],
   "source": [
    "#setup\n",
    "import numpy as np\n",
    "import matplotlib.pyplot as plt\n",
    "%matplotlib inline \n",
    "\n",
    "from sklearn import cross_validation\n",
    "from sklearn.naive_bayes import GaussianNB\n",
    "from sklearn.svm import SVC\n",
    "from sklearn.datasets import load_digits\n",
    "from sklearn.learning_curve import learning_curve\n",
    "\n",
    "from learn_curves import predict_learning_curve"
   ]
  },
  {
   "cell_type": "markdown",
   "metadata": {},
   "source": [
    "## Let's generate some learning curves using scikit-learn"
   ]
  },
  {
   "cell_type": "code",
   "execution_count": 2,
   "metadata": {
    "collapsed": false,
    "nbpresent": {
     "id": "d3245c26-8103-4274-b715-54d2da9af028"
    }
   },
   "outputs": [],
   "source": [
    "#borrows heavily from http://scikit-learn.org/stable/modules/learning_curve.html\n",
    "train_sizes=np.linspace(.1, 1.0, 5)\n",
    "digits = load_digits()\n",
    "X, y = digits.data, digits.target\n",
    "\n",
    "cv = cross_validation.ShuffleSplit(digits.data.shape[0], n_iter=20,\n",
    "                                   test_size=0.2, random_state=0)\n",
    "estimator_NB = GaussianNB()\n",
    "train_sizes_NB, train_scores_NB, test_scores_NB = learning_curve(\n",
    "    estimator_NB, X, y, cv=cv, n_jobs=4, train_sizes=train_sizes)\n",
    "\n",
    "train_error_NB = 1 - train_scores_NB\n",
    "test_error_NB = 1 - test_scores_NB\n",
    "train_error_mean_NB = np.mean(train_error_NB, axis=1)\n",
    "test_error_mean_NB = np.mean(test_error_NB, axis=1)\n",
    "\n",
    "estimator_SVC = SVC(gamma=0.001)\n",
    "train_sizes_SVC, train_scores_SVC, test_scores_SVC = learning_curve(\n",
    "    estimator_SVC, X, y, cv=cv, n_jobs=4, train_sizes=train_sizes)\n",
    "\n",
    "train_error_SVC = 1 - train_scores_SVC\n",
    "test_error_SVC = 1 - test_scores_SVC\n",
    "train_error_mean_SVC = np.mean(train_error_SVC, axis=1)\n",
    "test_error_mean_SVC = np.mean(test_error_SVC, axis=1)"
   ]
  },
  {
   "cell_type": "markdown",
   "metadata": {},
   "source": [
    "## How's the fit look for Gaussian Naive Bayes?"
   ]
  },
  {
   "cell_type": "code",
   "execution_count": 3,
   "metadata": {
    "collapsed": false
   },
   "outputs": [],
   "source": [
    "a_NB,b_NB,alpha_NB = predict_learning_curve(train_sizes_NB,test_error_NB,train_error_NB)\n",
    "\n",
    "powerfunc = lambda x,asymptote,scaling,exponent: asymptote + scaling * x**exponent\n",
    "manypoints = np.arange(50,1650,50)\n",
    "test_err_fit = powerfunc(manypoints,a_NB,b_NB,alpha_NB)\n",
    "train_err_fit = powerfunc(manypoints,a_NB,-b_NB,alpha_NB) # note negative b to make powerfunc a - b * x ** c"
   ]
  },
  {
   "cell_type": "code",
   "execution_count": 5,
   "metadata": {
    "collapsed": false
   },
   "outputs": [
    {
     "data": {
      "text/plain": [
       "(0, 0.7)"
      ]
     },
     "execution_count": 5,
     "metadata": {},
     "output_type": "execute_result"
    },
    {
     "data": {
      "image/png": "[encoded data removed]",
      "text/plain": [
       "<matplotlib.figure.Figure at 0x7faaa43ac860>"
      ]
     },
     "metadata": {},
     "output_type": "display_data"
    }
   ],
   "source": [
    "plt.plot(train_sizes_NB,test_error_mean_NB,'b.',markersize=10,label='test error')\n",
    "plt.plot(train_sizes_NB,train_error_mean_NB,'r.',markersize=10,label='train error')\n",
    "plt.plot(manypoints,test_err_fit,'b--',label='test err fit')\n",
    "plt.plot(manypoints,train_err_fit,'r--',label='train err fit')\n",
    "plt.axhline(a_NB,color='k',linestyle=':',label='asymptote')\n",
    "plt.legend()\n",
    "plt.ylim((0,0.7))"
   ]
  },
  {
   "cell_type": "markdown",
   "metadata": {},
   "source": [
    "## How's the fit look for a Support Vector Classifier?"
   ]
  },
  {
   "cell_type": "code",
   "execution_count": 6,
   "metadata": {
    "collapsed": false
   },
   "outputs": [],
   "source": [
    "a_SVC,b_SVC,alpha_SVC = predict_learning_curve(train_sizes_SVC,test_error_SVC,train_error_SVC)\n",
    "\n",
    "powerfunc = lambda x,asymptote,scaling,exponent: asymptote + scaling * x**exponent\n",
    "manypoints = np.arange(50,1650,50)\n",
    "test_err_fit_SVC = powerfunc(manypoints,a_SVC,b_SVC,alpha_SVC)\n",
    "train_err_fit_SVC = powerfunc(manypoints,a_SVC,-b_SVC,alpha_SVC) # note negative b to make powerfunc a - b * x ** c"
   ]
  },
  {
   "cell_type": "code",
   "execution_count": 7,
   "metadata": {
    "collapsed": false
   },
   "outputs": [
    {
     "data": {
      "text/plain": [
       "(0, 0.12)"
      ]
     },
     "execution_count": 7,
     "metadata": {},
     "output_type": "execute_result"
    },
    {
     "data": {
      "image/png": "[encoded data removed]",
      "text/plain": [
       "<matplotlib.figure.Figure at 0x7faaa435ab00>"
      ]
     },
     "metadata": {},
     "output_type": "display_data"
    }
   ],
   "source": [
    "plt.plot(train_sizes_SVC,test_error_mean_SVC,'b.',markersize=10,label='test error')\n",
    "plt.plot(train_sizes_SVC,train_error_mean_SVC,'r.',markersize=10,label='train error')\n",
    "plt.plot(manypoints,test_err_fit_SVC,'b--',label='test err fit')\n",
    "plt.plot(manypoints,train_err_fit_SVC,'r--',label='train err fit')\n",
    "plt.axhline(a_SVC,color='k',linestyle=':',label='asymptote')\n",
    "plt.legend()\n",
    "plt.ylim((0,0.12))"
   ]
  },
  {
   "cell_type": "markdown",
   "metadata": {},
   "source": [
    "## How's the fit if we measure error for just intermediate sizes?"
   ]
  },
  {
   "cell_type": "code",
   "execution_count": 9,
   "metadata": {
    "collapsed": false
   },
   "outputs": [],
   "source": [
    "#borrows heavily from http://scikit-learn.org/stable/modules/learning_curve.html\n",
    "train_sizes_intmd = np.linspace(.1, 0.5, 10)\n",
    "digits = load_digits()\n",
    "X, y = digits.data, digits.target\n",
    "\n",
    "cv = cross_validation.ShuffleSplit(digits.data.shape[0], n_iter=20,\n",
    "                                   test_size=0.2, random_state=0)\n",
    "train_sizes_NBintmd, train_scores_NBintmd, test_scores_NBintmd = learning_curve(\n",
    "    estimator_NB, X, y, cv=cv, n_jobs=4, train_sizes=train_sizes_intmd)\n",
    "\n",
    "train_error_NBintmd = 1 - train_scores_NBintmd\n",
    "test_error_NBintmd = 1 - test_scores_NBintmd\n",
    "train_error_mean_NBintmd = np.mean(train_error_NBintmd, axis=1)\n",
    "test_error_mean_NBintmd = np.mean(test_error_NBintmd, axis=1)\n",
    "\n",
    "train_sizes_SVCintmd, train_scores_SVCintmd, test_scores_SVCintmd = learning_curve(\n",
    "    estimator_SVC, X, y, cv=cv, n_jobs=4, train_sizes=train_sizes_intmd)\n",
    "\n",
    "train_error_SVCintmd = 1 - train_scores_SVCintmd\n",
    "test_error_SVCintmd = 1 - test_scores_SVCintmd\n",
    "train_error_mean_SVCintmd = np.mean(train_error_SVCintmd, axis=1)\n",
    "test_error_mean_SVCintmd = np.mean(test_error_SVCintmd, axis=1)"
   ]
  },
  {
   "cell_type": "code",
   "execution_count": 10,
   "metadata": {
    "collapsed": true
   },
   "outputs": [],
   "source": [
    "a_NBintmd,b_NBintmd,alpha_NBintmd = predict_learning_curve(train_sizes_NBintmd,test_error_NBintmd,train_error_NBintmd)\n",
    "\n",
    "powerfunc = lambda x,asymptote,scaling,exponent: asymptote + scaling * x**exponent\n",
    "manypoints = np.arange(50,1650,50)\n",
    "test_err_fit = powerfunc(manypoints,a_NBintmd,b_NBintmd,alpha_NBintmd)\n",
    "train_err_fit = powerfunc(manypoints,a_NBintmd,-b_NBintmd,alpha_NBintmd) # note negative b to make powerfunc a - b * x ** c"
   ]
  },
  {
   "cell_type": "code",
   "execution_count": 12,
   "metadata": {
    "collapsed": false
   },
   "outputs": [
    {
     "data": {
      "text/plain": [
       "(0, 0.7)"
      ]
     },
     "execution_count": 12,
     "metadata": {},
     "output_type": "execute_result"
    },
    {
     "data": {
      "image/png": "[encoded data removed]",
      "text/plain": [
       "<matplotlib.figure.Figure at 0x7faaa42bfef0>"
      ]
     },
     "metadata": {},
     "output_type": "display_data"
    }
   ],
   "source": [
    "plt.plot(train_sizes_NBintmd,test_error_mean_NBintmd,'b.',markersize=10,label='test error')\n",
    "plt.plot(train_sizes_NBintmd,train_error_mean_NBintmd,'r.',markersize=10,label='train error')\n",
    "plt.plot(manypoints,test_err_fit,'b--',label='test err fit')\n",
    "plt.plot(manypoints,train_err_fit,'r--',label='train err fit')\n",
    "plt.axhline(a_NBintmd,color='k',linestyle=':',label='asymptote')\n",
    "plt.legend()\n",
    "plt.ylim((0,0.7))"
   ]
  },
  {
   "cell_type": "code",
   "execution_count": 13,
   "metadata": {
    "collapsed": false
   },
   "outputs": [
    {
     "name": "stdout",
     "output_type": "stream",
     "text": [
      "estimated asymptote from all training set sizes: 0.143191221398\n",
      "estimated asymptote from intermediate training set sizes: 0.140210481566\n"
     ]
    }
   ],
   "source": [
    "print('estimated asymptote from all training set sizes:',a_NB)\n",
    "print('estimated asymptote from intermediate training set sizes:',a_NBintmd)"
   ]
  },
  {
   "cell_type": "code",
   "execution_count": null,
   "metadata": {
    "collapsed": true
   },
   "outputs": [],
   "source": []
  }
 ],
 "metadata": {
  "anaconda-cloud": {},
  "kernelspec": {
   "display_name": "Python [Root]",
   "language": "python",
   "name": "Python [Root]"
  },
  "language_info": {
   "codemirror_mode": {
    "name": "ipython",
    "version": 3
   },
   "file_extension": ".py",
   "mimetype": "text/x-python",
   "name": "python",
   "nbconvert_exporter": "python",
   "pygments_lexer": "ipython3",
   "version": "3.5.2"
  },
  "nbpresent": {
   "slides": {
    "021e72ce-2a9e-4c8f-b610-c6b12d6b6cf6": {
     "id": "021e72ce-2a9e-4c8f-b610-c6b12d6b6cf6",
     "prev": null,
     "regions": {
      "bee7d2cb-23db-42c9-b3f7-ba1b7ae10fa2": {
       "attrs": {
        "height": 0.8,
        "width": 0.8,
        "x": 0.1,
        "y": 0.1
       },
       "content": {
        "cell": "cca0541f-570f-42ac-ac47-ae2227518106",
        "part": "whole"
       },
       "id": "bee7d2cb-23db-42c9-b3f7-ba1b7ae10fa2"
      }
     }
    },
    "0959a265-10e5-4777-b49b-8037b1f2e525": {
     "id": "0959a265-10e5-4777-b49b-8037b1f2e525",
     "prev": "f79bb468-4152-45c5-b792-ab8997f45c70",
     "regions": {
      "9e49795c-ebce-4bcc-85dc-a83dc4093f1c": {
       "attrs": {
        "height": 0.8,
        "width": 0.8,
        "x": 0.1,
        "y": 0.1
       },
       "content": {
        "cell": "0cb49e51-be60-43be-8159-34b3907dd19a",
        "part": "whole"
       },
       "id": "9e49795c-ebce-4bcc-85dc-a83dc4093f1c"
      }
     }
    },
    "0cbd1b68-bb9f-4549-8f85-55492a293d8f": {
     "id": "0cbd1b68-bb9f-4549-8f85-55492a293d8f",
     "prev": "d3b3c46e-f70a-490c-8cbb-4f6ab7d08fd3",
     "regions": {
      "a4403294-9de2-4afb-ab9e-5b0d7f8fc0f1": {
       "attrs": {
        "height": 0.5734002989661791,
        "width": 0.8382387022016223,
        "x": 0.10000000000000002,
        "y": 0.32659970103382097
       },
       "content": {
        "cell": "556a9164-3cc7-4d73-9935-0293a0b6a463",
        "part": "whole"
       },
       "id": "a4403294-9de2-4afb-ab9e-5b0d7f8fc0f1"
      },
      "d02ac079-2071-463e-9fcc-1e9d28fe001d": {
       "attrs": {
        "height": 0.17788074621596178,
        "width": 0.8428736964078796,
        "x": 0.10000000000000002,
        "y": 0.1
       },
       "content": {
        "cell": "56923963-14f8-4403-a800-c16ad762008f",
        "part": "whole"
       },
       "id": "d02ac079-2071-463e-9fcc-1e9d28fe001d"
      }
     }
    },
    "7485998f-a10b-4869-a34d-8f2d298ec68b": {
     "id": "7485998f-a10b-4869-a34d-8f2d298ec68b",
     "prev": "0cbd1b68-bb9f-4549-8f85-55492a293d8f",
     "regions": {
      "91e4e6e6-7c98-4f72-87a1-80ef21167968": {
       "attrs": {
        "height": 0.6702201622247973,
        "width": 0.8000000000000002,
        "x": 0.10000000000000002,
        "y": 0.22977983777520278
       },
       "content": {
        "cell": "d3245c26-8103-4274-b715-54d2da9af028",
        "part": "whole"
       },
       "id": "91e4e6e6-7c98-4f72-87a1-80ef21167968"
      },
      "c824be0f-9916-44db-ab8d-96000beaf62a": {
       "attrs": {
        "height": 0.103720854632379,
        "width": 0.8000000000000002,
        "x": 0.10000000000000002,
        "y": 0.1
       },
       "id": "c824be0f-9916-44db-ab8d-96000beaf62a"
      }
     }
    },
    "7ee7c3de-6b20-49e7-81f4-ce2b84988792": {
     "id": "7ee7c3de-6b20-49e7-81f4-ce2b84988792",
     "prev": "dc28f981-50c7-480b-ba0e-79335b6dd3ac",
     "regions": {
      "c63cfea4-aac0-4a5c-8409-f1471f74a17d": {
       "attrs": {
        "height": 0.8,
        "width": 0.8,
        "x": 0.1,
        "y": 0.1
       },
       "content": {
        "cell": "90910be3-bb78-4603-9704-076340b315c0",
        "part": "whole"
       },
       "id": "c63cfea4-aac0-4a5c-8409-f1471f74a17d"
      }
     }
    },
    "a03970b6-f9db-4cfb-82b5-18ea842199cf": {
     "id": "a03970b6-f9db-4cfb-82b5-18ea842199cf",
     "prev": "0959a265-10e5-4777-b49b-8037b1f2e525",
     "regions": {
      "8f62e410-5543-4674-953f-03c4371d1df4": {
       "attrs": {
        "height": 0.8,
        "width": 0.8,
        "x": 0.1,
        "y": 0.1
       },
       "content": {
        "cell": "179f4a3e-834b-41cc-a55c-89074c2368ae",
        "part": "whole"
       },
       "id": "8f62e410-5543-4674-953f-03c4371d1df4"
      }
     }
    },
    "b3465f3f-7389-4374-a010-7f11a6d795b8": {
     "id": "b3465f3f-7389-4374-a010-7f11a6d795b8",
     "prev": "a03970b6-f9db-4cfb-82b5-18ea842199cf",
     "regions": {
      "127b6ce3-1b41-44c2-a2bf-de679941670a": {
       "attrs": {
        "height": 0.8,
        "width": 0.8,
        "x": 0.1,
        "y": 0.1
       },
       "content": {
        "cell": "3053f19d-d73b-42a7-8af3-862dcc671a19",
        "part": "whole"
       },
       "id": "127b6ce3-1b41-44c2-a2bf-de679941670a"
      }
     }
    },
    "cbd0f0f4-5fce-4138-96f5-30860aecbf8e": {
     "id": "cbd0f0f4-5fce-4138-96f5-30860aecbf8e",
     "prev": "021e72ce-2a9e-4c8f-b610-c6b12d6b6cf6",
     "regions": {
      "c7f09484-2eda-4d42-b373-d58fe70996d6": {
       "attrs": {
        "height": 0.8,
        "width": 0.8,
        "x": 0.1,
        "y": 0.1
       },
       "content": {
        "cell": "d0af7dc3-d446-42e8-9477-a52d59d9e423",
        "part": "whole"
       },
       "id": "c7f09484-2eda-4d42-b373-d58fe70996d6"
      }
     }
    },
    "d3b3c46e-f70a-490c-8cbb-4f6ab7d08fd3": {
     "id": "d3b3c46e-f70a-490c-8cbb-4f6ab7d08fd3",
     "prev": "b3465f3f-7389-4374-a010-7f11a6d795b8",
     "regions": {
      "99dc7612-0916-4076-baa1-75d5467281a9": {
       "attrs": {
        "height": 0.8,
        "width": 0.8,
        "x": 0.1,
        "y": 0.1
       },
       "content": {
        "cell": "d3245c26-8103-4274-b715-54d2da9af028",
        "part": "whole"
       },
       "id": "99dc7612-0916-4076-baa1-75d5467281a9"
      }
     }
    },
    "dc28f981-50c7-480b-ba0e-79335b6dd3ac": {
     "id": "dc28f981-50c7-480b-ba0e-79335b6dd3ac",
     "prev": "cbd0f0f4-5fce-4138-96f5-30860aecbf8e",
     "regions": {
      "a5de229c-84c0-4237-8057-a77278dc22f0": {
       "attrs": {
        "height": 0.8,
        "width": 0.8,
        "x": 0.1,
        "y": 0.1
       },
       "content": {
        "cell": "d9359060-bcc8-4304-98a2-a5ab90f83bda",
        "part": "whole"
       },
       "id": "a5de229c-84c0-4237-8057-a77278dc22f0"
      }
     }
    },
    "f79bb468-4152-45c5-b792-ab8997f45c70": {
     "id": "f79bb468-4152-45c5-b792-ab8997f45c70",
     "prev": "7ee7c3de-6b20-49e7-81f4-ce2b84988792",
     "regions": {
      "a61b3303-94d9-4ea9-b9ee-6532166b5855": {
       "attrs": {
        "height": 0.8,
        "width": 0.8,
        "x": 0.1,
        "y": 0.1
       },
       "content": {
        "cell": "087af4d5-6780-40fa-a7db-8fa1aa42c6f5",
        "part": "whole"
       },
       "id": "a61b3303-94d9-4ea9-b9ee-6532166b5855"
      }
     }
    }
   },
   "themes": {}
  }
 },
 "nbformat": 4,
 "nbformat_minor": 0
}
